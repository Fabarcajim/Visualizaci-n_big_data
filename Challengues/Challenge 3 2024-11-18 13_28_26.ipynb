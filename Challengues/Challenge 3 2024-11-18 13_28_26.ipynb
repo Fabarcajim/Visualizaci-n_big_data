{
 "cells": [
  {
   "cell_type": "code",
   "execution_count": 0,
   "metadata": {
    "application/vnd.databricks.v1+cell": {
     "cellMetadata": {
      "byteLimit": 2048000,
      "rowLimit": 10000
     },
     "inputWidgets": {},
     "nuid": "2383ffb0-83f4-44f3-b4ac-fba43d928e88",
     "showTitle": false,
     "tableResultSettingsMap": {},
     "title": ""
    }
   },
   "outputs": [
    {
     "output_type": "stream",
     "name": "stdout",
     "output_type": "stream",
     "text": [
      "[{'timestamp': '2024-11-18 23:11:26', 'state': 'Aguascalientes', 'temperature': 25, 'weather_descriptions': ['Partly cloudy']}, {'timestamp': '2024-11-18 23:11:26', 'state': 'Baja California', 'temperature': 23, 'weather_descriptions': ['Patchy rain nearby']}, {'timestamp': '2024-11-18 23:11:27', 'state': 'Baja California Sur', 'temperature': 23, 'weather_descriptions': ['Partly cloudy']}, {'timestamp': '2024-11-18 23:11:27', 'state': 'Campeche', 'temperature': 29, 'weather_descriptions': ['Partly cloudy']}, {'timestamp': '2024-11-18 23:11:27', 'state': 'Chiapas', 'temperature': 23, 'weather_descriptions': ['Patchy rain nearby']}, {'timestamp': '2024-11-18 23:11:28', 'state': 'Chihuahua', 'temperature': 19, 'weather_descriptions': ['Sunny']}, {'timestamp': '2024-11-18 23:11:28', 'state': 'Ciudad de México', 'temperature': 25, 'weather_descriptions': ['Partly cloudy']}, {'timestamp': '2024-11-18 23:11:28', 'state': 'Coahuila', 'temperature': 27, 'weather_descriptions': ['Partly cloudy']}, {'timestamp': '2024-11-18 23:11:29', 'state': 'Colima', 'temperature': 26, 'weather_descriptions': ['Partly cloudy']}, {'timestamp': '2024-11-18 23:11:29', 'state': 'Durango', 'temperature': 9, 'weather_descriptions': ['Clear']}, {'timestamp': '2024-11-18 23:11:29', 'state': 'Guanajuato', 'temperature': 20, 'weather_descriptions': ['Sunny']}, {'timestamp': '2024-11-18 23:11:30', 'state': 'Guerrero', 'temperature': 27, 'weather_descriptions': ['Sunny']}, {'timestamp': '2024-11-18 23:11:30', 'state': 'Hidalgo', 'temperature': 20, 'weather_descriptions': ['Sunny']}, {'timestamp': '2024-11-18 23:11:30', 'state': 'Jalisco', 'temperature': 24, 'weather_descriptions': ['Sunny']}, {'timestamp': '2024-11-18 23:11:30', 'state': 'Estado de México', 'temperature': 28, 'weather_descriptions': ['Overcast ']}, {'timestamp': '2024-11-18 23:11:31', 'state': 'Michoacán', 'temperature': 22, 'weather_descriptions': ['Light rain shower']}, {'timestamp': '2024-11-18 23:11:31', 'state': 'Morelos', 'temperature': 20, 'weather_descriptions': ['Partly Cloudy ']}, {'timestamp': '2024-11-18 23:11:31', 'state': 'Nayarit', 'temperature': 31, 'weather_descriptions': ['Sunny']}, {'timestamp': '2024-11-18 23:11:32', 'state': 'Nuevo León', 'temperature': 17, 'weather_descriptions': ['Sunny']}, {'timestamp': '2024-11-18 23:11:32', 'state': 'Oaxaca', 'temperature': 25, 'weather_descriptions': ['Partly cloudy']}, {'timestamp': '2024-11-18 23:11:32', 'state': 'Puebla', 'temperature': 19, 'weather_descriptions': ['Partly Cloudy ']}, {'timestamp': '2024-11-18 23:11:33', 'state': 'Querétaro', 'temperature': 25, 'weather_descriptions': ['Partly cloudy']}, {'timestamp': '2024-11-18 23:11:33', 'state': 'Quintana Roo', 'temperature': 24, 'weather_descriptions': ['Light rain shower']}, {'timestamp': '2024-11-18 23:11:33', 'state': 'San Luis Potosí', 'temperature': 20, 'weather_descriptions': ['Cloudy ']}, {'timestamp': '2024-11-18 23:11:34', 'state': 'Sinaloa', 'temperature': 26, 'weather_descriptions': ['Sunny']}, {'timestamp': '2024-11-18 23:11:34', 'state': 'Sonora', 'temperature': 26, 'weather_descriptions': ['Overcast ']}, {'timestamp': '2024-11-18 23:11:34', 'state': 'Tabasco', 'temperature': 23, 'weather_descriptions': ['Sunny']}, {'timestamp': '2024-11-18 23:11:34', 'state': 'Tamaulipas', 'temperature': 27, 'weather_descriptions': ['Partly Cloudy ']}, {'timestamp': '2024-11-18 23:11:35', 'state': 'Tlaxcala', 'temperature': 18, 'weather_descriptions': ['Sunny']}, {'timestamp': '2024-11-18 23:11:35', 'state': 'Veracruz', 'temperature': 27, 'weather_descriptions': ['Overcast ']}, {'timestamp': '2024-11-18 23:11:35', 'state': 'Yucatán', 'temperature': 21, 'weather_descriptions': ['Sunny']}, {'timestamp': '2024-11-18 23:11:36', 'state': 'Zacatecas', 'temperature': 23, 'weather_descriptions': ['Partly cloudy']}]\n"
     ]
    }
   ],
   "source": [
    "import requests\n",
    "import json\n",
    "from datetime import datetime\n",
    "import time\n",
    "\n",
    "estados_mexico = [\n",
    "    \"Aguascalientes\", \"Baja California\", \"Baja California Sur\", \"Campeche\", \n",
    "    \"Chiapas\", \"Chihuahua\", \"Ciudad de México\", \"Coahuila\", \"Colima\", \n",
    "    \"Durango\", \"Guanajuato\", \"Guerrero\", \"Hidalgo\", \"Jalisco\", \"Estado de México\", \n",
    "    \"Michoacán\", \"Morelos\", \"Nayarit\", \"Nuevo León\", \"Oaxaca\", \"Puebla\", \n",
    "    \"Querétaro\", \"Quintana Roo\", \"San Luis Potosí\", \"Sinaloa\", \"Sonora\", \n",
    "    \"Tabasco\", \"Tamaulipas\", \"Tlaxcala\", \"Veracruz\", \"Yucatán\", \"Zacatecas\"\n",
    "]\n",
    "\n",
    "api_key = \"7b64114cd06e7d4148e9729d2f1bf1a4\" \n",
    "base_url = \"http://api.weatherstack.com/current\"\n",
    "\n",
    "def fetch_weather_data(estados):\n",
    "    weather_data_list = []\n",
    "    for estado in estados:\n",
    "        params = {\n",
    "            \"access_key\": api_key,\n",
    "            \"query\": estado,\n",
    "        }\n",
    "        response = requests.get(base_url, params=params)\n",
    "        data = response.json()\n",
    "        if \"current\" in data:\n",
    "            weather_info = {\n",
    "                \"timestamp\": datetime.now().strftime(\"%Y-%m-%d %H:%M:%S\"),\n",
    "                \"state\": estado,\n",
    "                \"temperature\": data[\"current\"][\"temperature\"],\n",
    "                \"weather_descriptions\": data[\"current\"][\"weather_descriptions\"],\n",
    "            }\n",
    "            weather_data_list.append(weather_info)\n",
    "        else:\n",
    "            print(f\"Error obteniendo datos para {estado}: {data}\")\n",
    "    return weather_data_list\n",
    "\n",
    "# Prueba la función\n",
    "weather_data = fetch_weather_data(estados_mexico)\n",
    "print(weather_data)"
   ]
  },
  {
   "cell_type": "code",
   "execution_count": 0,
   "metadata": {
    "application/vnd.databricks.v1+cell": {
     "cellMetadata": {
      "byteLimit": 2048000,
      "rowLimit": 10000
     },
     "inputWidgets": {},
     "nuid": "bd9339fb-cdd6-4b46-8cd2-23022c5d1130",
     "showTitle": false,
     "tableResultSettingsMap": {},
     "title": ""
    }
   },
   "outputs": [
    {
     "output_type": "stream",
     "name": "stdout",
     "output_type": "stream",
     "text": [
      "Carpeta creada exitosamente.\n"
     ]
    }
   ],
   "source": [
    "dbutils.fs.mkdirs(\"/FileStore/tables/weather_data/\")\n",
    "print(\"Carpeta creada exitosamente.\")"
   ]
  },
  {
   "cell_type": "code",
   "execution_count": 0,
   "metadata": {
    "application/vnd.databricks.v1+cell": {
     "cellMetadata": {
      "byteLimit": 2048000,
      "rowLimit": 10000
     },
     "inputWidgets": {},
     "nuid": "42c9a15a-6575-4598-9bfd-4061b7e85011",
     "showTitle": false,
     "tableResultSettingsMap": {},
     "title": ""
    }
   },
   "outputs": [
    {
     "output_type": "stream",
     "name": "stdout",
     "output_type": "stream",
     "text": [
      "Carpeta creada exitosamente.\n"
     ]
    }
   ],
   "source": [
    "dbutils.fs.mkdirs(\"/FileStore/tables/weather_data_gdl/\")\n",
    "print(\"Carpeta creada exitosamente.\")"
   ]
  },
  {
   "cell_type": "code",
   "execution_count": 0,
   "metadata": {
    "application/vnd.databricks.v1+cell": {
     "cellMetadata": {
      "byteLimit": 2048000,
      "rowLimit": 10000
     },
     "inputWidgets": {},
     "nuid": "c4e1860a-d2ce-40fb-815e-188feaab9fa1",
     "showTitle": false,
     "tableResultSettingsMap": {},
     "title": ""
    }
   },
   "outputs": [
    {
     "output_type": "display_data",
     "data": {
      "text/html": [
       "<style scoped>\n",
       "  .table-result-container {\n",
       "    max-height: 300px;\n",
       "    overflow: auto;\n",
       "  }\n",
       "  table, th, td {\n",
       "    border: 1px solid black;\n",
       "    border-collapse: collapse;\n",
       "  }\n",
       "  th, td {\n",
       "    padding: 5px;\n",
       "  }\n",
       "  th {\n",
       "    text-align: left;\n",
       "  }\n",
       "</style><div class='table-result-container'><table class='table-result'><thead style='background-color: white'><tr><th>path</th><th>name</th><th>size</th><th>modificationTime</th></tr></thead><tbody><tr><td>dbfs:/FileStore/tables/8__Dataframes_y_Datasets_en_Databricks.dbc</td><td>8__Dataframes_y_Datasets_en_Databricks.dbc</td><td>19557</td><td>1727532429000</td></tr><tr><td>dbfs:/FileStore/tables/globalterrorismdb_0718dist-1.csv</td><td>globalterrorismdb_0718dist-1.csv</td><td>162812896</td><td>1731862895000</td></tr><tr><td>dbfs:/FileStore/tables/globalterrorismdb_0718dist.csv</td><td>globalterrorismdb_0718dist.csv</td><td>162812896</td><td>1731862806000</td></tr><tr><td>dbfs:/FileStore/tables/weather_data/</td><td>weather_data/</td><td>0</td><td>0</td></tr><tr><td>dbfs:/FileStore/tables/winequality.names</td><td>winequality.names</td><td>3305</td><td>1731943671000</td></tr><tr><td>dbfs:/FileStore/tables/winequality_red-1.csv</td><td>winequality_red-1.csv</td><td>84199</td><td>1731944091000</td></tr><tr><td>dbfs:/FileStore/tables/winequality_red.csv</td><td>winequality_red.csv</td><td>84199</td><td>1731943661000</td></tr><tr><td>dbfs:/FileStore/tables/winequality_white-1.csv</td><td>winequality_white-1.csv</td><td>264426</td><td>1731943993000</td></tr><tr><td>dbfs:/FileStore/tables/winequality_white.csv</td><td>winequality_white.csv</td><td>264426</td><td>1731943661000</td></tr></tbody></table></div>"
      ]
     },
     "metadata": {
      "application/vnd.databricks.v1+output": {
       "addedWidgets": {},
       "aggData": [],
       "aggError": "",
       "aggOverflow": false,
       "aggSchema": [],
       "aggSeriesLimitReached": false,
       "aggType": "",
       "arguments": {},
       "columnCustomDisplayInfos": {},
       "data": [
        [
         "dbfs:/FileStore/tables/8__Dataframes_y_Datasets_en_Databricks.dbc",
         "8__Dataframes_y_Datasets_en_Databricks.dbc",
         19557,
         1727532429000
        ],
        [
         "dbfs:/FileStore/tables/globalterrorismdb_0718dist-1.csv",
         "globalterrorismdb_0718dist-1.csv",
         162812896,
         1731862895000
        ],
        [
         "dbfs:/FileStore/tables/globalterrorismdb_0718dist.csv",
         "globalterrorismdb_0718dist.csv",
         162812896,
         1731862806000
        ],
        [
         "dbfs:/FileStore/tables/weather_data/",
         "weather_data/",
         0,
         0
        ],
        [
         "dbfs:/FileStore/tables/winequality.names",
         "winequality.names",
         3305,
         1731943671000
        ],
        [
         "dbfs:/FileStore/tables/winequality_red-1.csv",
         "winequality_red-1.csv",
         84199,
         1731944091000
        ],
        [
         "dbfs:/FileStore/tables/winequality_red.csv",
         "winequality_red.csv",
         84199,
         1731943661000
        ],
        [
         "dbfs:/FileStore/tables/winequality_white-1.csv",
         "winequality_white-1.csv",
         264426,
         1731943993000
        ],
        [
         "dbfs:/FileStore/tables/winequality_white.csv",
         "winequality_white.csv",
         264426,
         1731943661000
        ]
       ],
       "datasetInfos": [],
       "dbfsResultPath": null,
       "isJsonSchema": true,
       "metadata": {},
       "overflow": false,
       "plotOptions": {
        "customPlotOptions": {},
        "displayType": "table",
        "pivotAggregation": null,
        "pivotColumns": null,
        "xColumns": null,
        "yColumns": null
       },
       "removedWidgets": [],
       "schema": [
        {
         "metadata": "{}",
         "name": "path",
         "type": "\"string\""
        },
        {
         "metadata": "{}",
         "name": "name",
         "type": "\"string\""
        },
        {
         "metadata": "{}",
         "name": "size",
         "type": "\"long\""
        },
        {
         "metadata": "{}",
         "name": "modificationTime",
         "type": "\"long\""
        }
       ],
       "type": "table"
      }
     },
     "output_type": "display_data"
    }
   ],
   "source": [
    "display(dbutils.fs.ls(\"/FileStore/tables/\"))"
   ]
  },
  {
   "cell_type": "code",
   "execution_count": 0,
   "metadata": {
    "application/vnd.databricks.v1+cell": {
     "cellMetadata": {
      "byteLimit": 2048000,
      "rowLimit": 10000
     },
     "inputWidgets": {},
     "nuid": "9ab4c9bf-e94d-442c-bfe7-420e161d8b17",
     "showTitle": false,
     "tableResultSettingsMap": {},
     "title": ""
    }
   },
   "outputs": [
    {
     "output_type": "stream",
     "name": "stdout",
     "output_type": "stream",
     "text": [
      "Wrote 125 bytes.\nDatos guardados en: /dbfs/FileStore/tables/weather_data/weather_Aguascalientes_1731972107.json\nWrote 131 bytes.\nDatos guardados en: /dbfs/FileStore/tables/weather_data/weather_Baja California_1731972107.json\nWrote 130 bytes.\nDatos guardados en: /dbfs/FileStore/tables/weather_data/weather_Baja California Sur_1731972107.json\nWrote 119 bytes.\nDatos guardados en: /dbfs/FileStore/tables/weather_data/weather_Campeche_1731972108.json\nWrote 123 bytes.\nDatos guardados en: /dbfs/FileStore/tables/weather_data/weather_Chiapas_1731972108.json\nWrote 112 bytes.\nDatos guardados en: /dbfs/FileStore/tables/weather_data/weather_Chihuahua_1731972108.json\nWrote 132 bytes.\nDatos guardados en: /dbfs/FileStore/tables/weather_data/weather_Ciudad de México_1731972108.json\nWrote 119 bytes.\nDatos guardados en: /dbfs/FileStore/tables/weather_data/weather_Coahuila_1731972108.json\nWrote 117 bytes.\nDatos guardados en: /dbfs/FileStore/tables/weather_data/weather_Colima_1731972108.json\nWrote 109 bytes.\nDatos guardados en: /dbfs/FileStore/tables/weather_data/weather_Durango_1731972108.json\nWrote 113 bytes.\nDatos guardados en: /dbfs/FileStore/tables/weather_data/weather_Guanajuato_1731972108.json\nWrote 111 bytes.\nDatos guardados en: /dbfs/FileStore/tables/weather_data/weather_Guerrero_1731972108.json\nWrote 110 bytes.\nDatos guardados en: /dbfs/FileStore/tables/weather_data/weather_Hidalgo_1731972109.json\nWrote 110 bytes.\nDatos guardados en: /dbfs/FileStore/tables/weather_data/weather_Jalisco_1731972109.json\nWrote 128 bytes.\nDatos guardados en: /dbfs/FileStore/tables/weather_data/weather_Estado de México_1731972109.json\nWrote 129 bytes.\nDatos guardados en: /dbfs/FileStore/tables/weather_data/weather_Michoacán_1731972109.json\nWrote 119 bytes.\nDatos guardados en: /dbfs/FileStore/tables/weather_data/weather_Morelos_1731972109.json\nWrote 110 bytes.\nDatos guardados en: /dbfs/FileStore/tables/weather_data/weather_Nayarit_1731972109.json\nWrote 118 bytes.\nDatos guardados en: /dbfs/FileStore/tables/weather_data/weather_Nuevo León_1731972109.json\nWrote 117 bytes.\nDatos guardados en: /dbfs/FileStore/tables/weather_data/weather_Oaxaca_1731972109.json\nWrote 118 bytes.\nDatos guardados en: /dbfs/FileStore/tables/weather_data/weather_Puebla_1731972109.json\nWrote 125 bytes.\nDatos guardados en: /dbfs/FileStore/tables/weather_data/weather_Querétaro_1731972110.json\nWrote 127 bytes.\nDatos guardados en: /dbfs/FileStore/tables/weather_data/weather_Quintana Roo_1731972110.json\nWrote 125 bytes.\nDatos guardados en: /dbfs/FileStore/tables/weather_data/weather_San Luis Potosí_1731972110.json\nWrote 110 bytes.\nDatos guardados en: /dbfs/FileStore/tables/weather_data/weather_Sinaloa_1731972110.json\nWrote 113 bytes.\nDatos guardados en: /dbfs/FileStore/tables/weather_data/weather_Sonora_1731972110.json\nWrote 110 bytes.\nDatos guardados en: /dbfs/FileStore/tables/weather_data/weather_Tabasco_1731972110.json\nWrote 122 bytes.\nDatos guardados en: /dbfs/FileStore/tables/weather_data/weather_Tamaulipas_1731972110.json\nWrote 111 bytes.\nDatos guardados en: /dbfs/FileStore/tables/weather_data/weather_Tlaxcala_1731972110.json\nWrote 115 bytes.\nDatos guardados en: /dbfs/FileStore/tables/weather_data/weather_Veracruz_1731972110.json\nWrote 115 bytes.\nDatos guardados en: /dbfs/FileStore/tables/weather_data/weather_Yucatán_1731972110.json\nWrote 120 bytes.\nDatos guardados en: /dbfs/FileStore/tables/weather_data/weather_Zacatecas_1731972111.json\n"
     ]
    }
   ],
   "source": [
    "\n",
    "# Define la ruta donde guardar los datos\n",
    "directory_path = \"/dbfs/FileStore/tables/weather_data/\"\n",
    "if not any(f.name == \"weather_data/\" for f in dbutils.fs.ls(\"/FileStore/tables/\")):\n",
    "    dbutils.fs.mkdirs(directory_path)\n",
    "\n",
    "# Guarda cada registro como un archivo JSON\n",
    "for record in weather_data:\n",
    "    file_name = f\"{directory_path}weather_{record['state']}_{int(time.time())}.json\"\n",
    "    json_data = json.dumps(record)\n",
    "    dbutils.fs.put(file_name, json_data)\n",
    "    print(f\"Datos guardados en: {file_name}\")"
   ]
  },
  {
   "cell_type": "code",
   "execution_count": 0,
   "metadata": {
    "application/vnd.databricks.v1+cell": {
     "cellMetadata": {
      "byteLimit": 2048000,
      "rowLimit": 10000
     },
     "inputWidgets": {},
     "nuid": "2a5fc507-2c26-4b7a-82dc-c4398d5577c3",
     "showTitle": false,
     "tableResultSettingsMap": {},
     "title": ""
    }
   },
   "outputs": [
    {
     "output_type": "display_data",
     "data": {
      "text/html": [
       "<style scoped>\n",
       "  .table-result-container {\n",
       "    max-height: 300px;\n",
       "    overflow: auto;\n",
       "  }\n",
       "  table, th, td {\n",
       "    border: 1px solid black;\n",
       "    border-collapse: collapse;\n",
       "  }\n",
       "  th, td {\n",
       "    padding: 5px;\n",
       "  }\n",
       "  th {\n",
       "    text-align: left;\n",
       "  }\n",
       "</style><div class='table-result-container'><table class='table-result'><thead style='background-color: white'><tr><th>path</th><th>name</th><th>size</th><th>modificationTime</th></tr></thead><tbody><tr><td>dbfs:/dbfs/FileStore/tables/weather_data/weather_Aguascalientes_1731972107.json</td><td>weather_Aguascalientes_1731972107.json</td><td>125</td><td>1731972108000</td></tr><tr><td>dbfs:/dbfs/FileStore/tables/weather_data/weather_Baja California Sur_1731972107.json</td><td>weather_Baja California Sur_1731972107.json</td><td>130</td><td>1731972109000</td></tr><tr><td>dbfs:/dbfs/FileStore/tables/weather_data/weather_Baja California_1731972107.json</td><td>weather_Baja California_1731972107.json</td><td>131</td><td>1731972108000</td></tr><tr><td>dbfs:/dbfs/FileStore/tables/weather_data/weather_Campeche_1731972108.json</td><td>weather_Campeche_1731972108.json</td><td>119</td><td>1731972109000</td></tr><tr><td>dbfs:/dbfs/FileStore/tables/weather_data/weather_Chiapas_1731972108.json</td><td>weather_Chiapas_1731972108.json</td><td>123</td><td>1731972109000</td></tr><tr><td>dbfs:/dbfs/FileStore/tables/weather_data/weather_Chihuahua_1731972108.json</td><td>weather_Chihuahua_1731972108.json</td><td>112</td><td>1731972109000</td></tr><tr><td>dbfs:/dbfs/FileStore/tables/weather_data/weather_Ciudad de México_1731972108.json</td><td>weather_Ciudad de México_1731972108.json</td><td>132</td><td>1731972109000</td></tr><tr><td>dbfs:/dbfs/FileStore/tables/weather_data/weather_Coahuila_1731972108.json</td><td>weather_Coahuila_1731972108.json</td><td>119</td><td>1731972109000</td></tr><tr><td>dbfs:/dbfs/FileStore/tables/weather_data/weather_Colima_1731972108.json</td><td>weather_Colima_1731972108.json</td><td>117</td><td>1731972109000</td></tr><tr><td>dbfs:/dbfs/FileStore/tables/weather_data/weather_Durango_1731972108.json</td><td>weather_Durango_1731972108.json</td><td>109</td><td>1731972109000</td></tr><tr><td>dbfs:/dbfs/FileStore/tables/weather_data/weather_Estado de México_1731972109.json</td><td>weather_Estado de México_1731972109.json</td><td>128</td><td>1731972110000</td></tr><tr><td>dbfs:/dbfs/FileStore/tables/weather_data/weather_Guanajuato_1731972108.json</td><td>weather_Guanajuato_1731972108.json</td><td>113</td><td>1731972109000</td></tr><tr><td>dbfs:/dbfs/FileStore/tables/weather_data/weather_Guerrero_1731972108.json</td><td>weather_Guerrero_1731972108.json</td><td>111</td><td>1731972109000</td></tr><tr><td>dbfs:/dbfs/FileStore/tables/weather_data/weather_Hidalgo_1731972109.json</td><td>weather_Hidalgo_1731972109.json</td><td>110</td><td>1731972110000</td></tr><tr><td>dbfs:/dbfs/FileStore/tables/weather_data/weather_Jalisco_1731972109.json</td><td>weather_Jalisco_1731972109.json</td><td>110</td><td>1731972110000</td></tr><tr><td>dbfs:/dbfs/FileStore/tables/weather_data/weather_Michoacán_1731972109.json</td><td>weather_Michoacán_1731972109.json</td><td>129</td><td>1731972110000</td></tr><tr><td>dbfs:/dbfs/FileStore/tables/weather_data/weather_Morelos_1731972109.json</td><td>weather_Morelos_1731972109.json</td><td>119</td><td>1731972110000</td></tr><tr><td>dbfs:/dbfs/FileStore/tables/weather_data/weather_Nayarit_1731972109.json</td><td>weather_Nayarit_1731972109.json</td><td>110</td><td>1731972110000</td></tr><tr><td>dbfs:/dbfs/FileStore/tables/weather_data/weather_Nuevo León_1731972109.json</td><td>weather_Nuevo León_1731972109.json</td><td>118</td><td>1731972110000</td></tr><tr><td>dbfs:/dbfs/FileStore/tables/weather_data/weather_Oaxaca_1731972109.json</td><td>weather_Oaxaca_1731972109.json</td><td>117</td><td>1731972110000</td></tr><tr><td>dbfs:/dbfs/FileStore/tables/weather_data/weather_Puebla_1731972109.json</td><td>weather_Puebla_1731972109.json</td><td>118</td><td>1731972111000</td></tr><tr><td>dbfs:/dbfs/FileStore/tables/weather_data/weather_Querétaro_1731972110.json</td><td>weather_Querétaro_1731972110.json</td><td>125</td><td>1731972111000</td></tr><tr><td>dbfs:/dbfs/FileStore/tables/weather_data/weather_Quintana Roo_1731972110.json</td><td>weather_Quintana Roo_1731972110.json</td><td>127</td><td>1731972111000</td></tr><tr><td>dbfs:/dbfs/FileStore/tables/weather_data/weather_San Luis Potosí_1731972110.json</td><td>weather_San Luis Potosí_1731972110.json</td><td>125</td><td>1731972111000</td></tr><tr><td>dbfs:/dbfs/FileStore/tables/weather_data/weather_Sinaloa_1731972110.json</td><td>weather_Sinaloa_1731972110.json</td><td>110</td><td>1731972111000</td></tr><tr><td>dbfs:/dbfs/FileStore/tables/weather_data/weather_Sonora_1731972110.json</td><td>weather_Sonora_1731972110.json</td><td>113</td><td>1731972111000</td></tr><tr><td>dbfs:/dbfs/FileStore/tables/weather_data/weather_Tabasco_1731972110.json</td><td>weather_Tabasco_1731972110.json</td><td>110</td><td>1731972111000</td></tr><tr><td>dbfs:/dbfs/FileStore/tables/weather_data/weather_Tamaulipas_1731972110.json</td><td>weather_Tamaulipas_1731972110.json</td><td>122</td><td>1731972111000</td></tr><tr><td>dbfs:/dbfs/FileStore/tables/weather_data/weather_Tlaxcala_1731972110.json</td><td>weather_Tlaxcala_1731972110.json</td><td>111</td><td>1731972111000</td></tr><tr><td>dbfs:/dbfs/FileStore/tables/weather_data/weather_Veracruz_1731972110.json</td><td>weather_Veracruz_1731972110.json</td><td>115</td><td>1731972111000</td></tr><tr><td>dbfs:/dbfs/FileStore/tables/weather_data/weather_Yucatán_1731972110.json</td><td>weather_Yucatán_1731972110.json</td><td>115</td><td>1731972112000</td></tr><tr><td>dbfs:/dbfs/FileStore/tables/weather_data/weather_Zacatecas_1731972111.json</td><td>weather_Zacatecas_1731972111.json</td><td>120</td><td>1731972112000</td></tr></tbody></table></div>"
      ]
     },
     "metadata": {
      "application/vnd.databricks.v1+output": {
       "addedWidgets": {},
       "aggData": [],
       "aggError": "",
       "aggOverflow": false,
       "aggSchema": [],
       "aggSeriesLimitReached": false,
       "aggType": "",
       "arguments": {},
       "columnCustomDisplayInfos": {},
       "data": [
        [
         "dbfs:/dbfs/FileStore/tables/weather_data/weather_Aguascalientes_1731972107.json",
         "weather_Aguascalientes_1731972107.json",
         125,
         1731972108000
        ],
        [
         "dbfs:/dbfs/FileStore/tables/weather_data/weather_Baja California Sur_1731972107.json",
         "weather_Baja California Sur_1731972107.json",
         130,
         1731972109000
        ],
        [
         "dbfs:/dbfs/FileStore/tables/weather_data/weather_Baja California_1731972107.json",
         "weather_Baja California_1731972107.json",
         131,
         1731972108000
        ],
        [
         "dbfs:/dbfs/FileStore/tables/weather_data/weather_Campeche_1731972108.json",
         "weather_Campeche_1731972108.json",
         119,
         1731972109000
        ],
        [
         "dbfs:/dbfs/FileStore/tables/weather_data/weather_Chiapas_1731972108.json",
         "weather_Chiapas_1731972108.json",
         123,
         1731972109000
        ],
        [
         "dbfs:/dbfs/FileStore/tables/weather_data/weather_Chihuahua_1731972108.json",
         "weather_Chihuahua_1731972108.json",
         112,
         1731972109000
        ],
        [
         "dbfs:/dbfs/FileStore/tables/weather_data/weather_Ciudad de México_1731972108.json",
         "weather_Ciudad de México_1731972108.json",
         132,
         1731972109000
        ],
        [
         "dbfs:/dbfs/FileStore/tables/weather_data/weather_Coahuila_1731972108.json",
         "weather_Coahuila_1731972108.json",
         119,
         1731972109000
        ],
        [
         "dbfs:/dbfs/FileStore/tables/weather_data/weather_Colima_1731972108.json",
         "weather_Colima_1731972108.json",
         117,
         1731972109000
        ],
        [
         "dbfs:/dbfs/FileStore/tables/weather_data/weather_Durango_1731972108.json",
         "weather_Durango_1731972108.json",
         109,
         1731972109000
        ],
        [
         "dbfs:/dbfs/FileStore/tables/weather_data/weather_Estado de México_1731972109.json",
         "weather_Estado de México_1731972109.json",
         128,
         1731972110000
        ],
        [
         "dbfs:/dbfs/FileStore/tables/weather_data/weather_Guanajuato_1731972108.json",
         "weather_Guanajuato_1731972108.json",
         113,
         1731972109000
        ],
        [
         "dbfs:/dbfs/FileStore/tables/weather_data/weather_Guerrero_1731972108.json",
         "weather_Guerrero_1731972108.json",
         111,
         1731972109000
        ],
        [
         "dbfs:/dbfs/FileStore/tables/weather_data/weather_Hidalgo_1731972109.json",
         "weather_Hidalgo_1731972109.json",
         110,
         1731972110000
        ],
        [
         "dbfs:/dbfs/FileStore/tables/weather_data/weather_Jalisco_1731972109.json",
         "weather_Jalisco_1731972109.json",
         110,
         1731972110000
        ],
        [
         "dbfs:/dbfs/FileStore/tables/weather_data/weather_Michoacán_1731972109.json",
         "weather_Michoacán_1731972109.json",
         129,
         1731972110000
        ],
        [
         "dbfs:/dbfs/FileStore/tables/weather_data/weather_Morelos_1731972109.json",
         "weather_Morelos_1731972109.json",
         119,
         1731972110000
        ],
        [
         "dbfs:/dbfs/FileStore/tables/weather_data/weather_Nayarit_1731972109.json",
         "weather_Nayarit_1731972109.json",
         110,
         1731972110000
        ],
        [
         "dbfs:/dbfs/FileStore/tables/weather_data/weather_Nuevo León_1731972109.json",
         "weather_Nuevo León_1731972109.json",
         118,
         1731972110000
        ],
        [
         "dbfs:/dbfs/FileStore/tables/weather_data/weather_Oaxaca_1731972109.json",
         "weather_Oaxaca_1731972109.json",
         117,
         1731972110000
        ],
        [
         "dbfs:/dbfs/FileStore/tables/weather_data/weather_Puebla_1731972109.json",
         "weather_Puebla_1731972109.json",
         118,
         1731972111000
        ],
        [
         "dbfs:/dbfs/FileStore/tables/weather_data/weather_Querétaro_1731972110.json",
         "weather_Querétaro_1731972110.json",
         125,
         1731972111000
        ],
        [
         "dbfs:/dbfs/FileStore/tables/weather_data/weather_Quintana Roo_1731972110.json",
         "weather_Quintana Roo_1731972110.json",
         127,
         1731972111000
        ],
        [
         "dbfs:/dbfs/FileStore/tables/weather_data/weather_San Luis Potosí_1731972110.json",
         "weather_San Luis Potosí_1731972110.json",
         125,
         1731972111000
        ],
        [
         "dbfs:/dbfs/FileStore/tables/weather_data/weather_Sinaloa_1731972110.json",
         "weather_Sinaloa_1731972110.json",
         110,
         1731972111000
        ],
        [
         "dbfs:/dbfs/FileStore/tables/weather_data/weather_Sonora_1731972110.json",
         "weather_Sonora_1731972110.json",
         113,
         1731972111000
        ],
        [
         "dbfs:/dbfs/FileStore/tables/weather_data/weather_Tabasco_1731972110.json",
         "weather_Tabasco_1731972110.json",
         110,
         1731972111000
        ],
        [
         "dbfs:/dbfs/FileStore/tables/weather_data/weather_Tamaulipas_1731972110.json",
         "weather_Tamaulipas_1731972110.json",
         122,
         1731972111000
        ],
        [
         "dbfs:/dbfs/FileStore/tables/weather_data/weather_Tlaxcala_1731972110.json",
         "weather_Tlaxcala_1731972110.json",
         111,
         1731972111000
        ],
        [
         "dbfs:/dbfs/FileStore/tables/weather_data/weather_Veracruz_1731972110.json",
         "weather_Veracruz_1731972110.json",
         115,
         1731972111000
        ],
        [
         "dbfs:/dbfs/FileStore/tables/weather_data/weather_Yucatán_1731972110.json",
         "weather_Yucatán_1731972110.json",
         115,
         1731972112000
        ],
        [
         "dbfs:/dbfs/FileStore/tables/weather_data/weather_Zacatecas_1731972111.json",
         "weather_Zacatecas_1731972111.json",
         120,
         1731972112000
        ]
       ],
       "datasetInfos": [],
       "dbfsResultPath": null,
       "isJsonSchema": true,
       "metadata": {},
       "overflow": false,
       "plotOptions": {
        "customPlotOptions": {},
        "displayType": "table",
        "pivotAggregation": null,
        "pivotColumns": null,
        "xColumns": null,
        "yColumns": null
       },
       "removedWidgets": [],
       "schema": [
        {
         "metadata": "{}",
         "name": "path",
         "type": "\"string\""
        },
        {
         "metadata": "{}",
         "name": "name",
         "type": "\"string\""
        },
        {
         "metadata": "{}",
         "name": "size",
         "type": "\"long\""
        },
        {
         "metadata": "{}",
         "name": "modificationTime",
         "type": "\"long\""
        }
       ],
       "type": "table"
      }
     },
     "output_type": "display_data"
    }
   ],
   "source": [
    "display(dbutils.fs.ls('/dbfs/FileStore/tables/weather_data/'))"
   ]
  },
  {
   "cell_type": "code",
   "execution_count": 0,
   "metadata": {
    "application/vnd.databricks.v1+cell": {
     "cellMetadata": {
      "byteLimit": 2048000,
      "rowLimit": 10000
     },
     "inputWidgets": {},
     "nuid": "211a76c2-aeaf-4531-a188-6e53e392d509",
     "showTitle": false,
     "tableResultSettingsMap": {},
     "title": ""
    }
   },
   "outputs": [
    {
     "output_type": "display_data",
     "data": {
      "text/html": [
       "<style scoped>\n",
       "  .table-result-container {\n",
       "    max-height: 300px;\n",
       "    overflow: auto;\n",
       "  }\n",
       "  table, th, td {\n",
       "    border: 1px solid black;\n",
       "    border-collapse: collapse;\n",
       "  }\n",
       "  th, td {\n",
       "    padding: 5px;\n",
       "  }\n",
       "  th {\n",
       "    text-align: left;\n",
       "  }\n",
       "</style><div class='table-result-container'><table class='table-result'><thead style='background-color: white'><tr><th>timestamp</th><th>state</th><th>temperature</th><th>weather_descriptions</th></tr></thead><tbody><tr><td>2024-11-18T23:11:28.000+0000</td><td>Ciudad de México</td><td>25.0</td><td>List(Partly cloudy)</td></tr><tr><td>2024-11-18T23:11:26.000+0000</td><td>Baja California</td><td>23.0</td><td>List(Patchy rain nearby)</td></tr><tr><td>2024-11-18T23:11:27.000+0000</td><td>Baja California Sur</td><td>23.0</td><td>List(Partly cloudy)</td></tr><tr><td>2024-11-18T23:11:31.000+0000</td><td>Michoacán</td><td>22.0</td><td>List(Light rain shower)</td></tr><tr><td>2024-11-18T23:11:30.000+0000</td><td>Estado de México</td><td>28.0</td><td>List(Overcast )</td></tr><tr><td>2024-11-18T23:11:33.000+0000</td><td>Quintana Roo</td><td>24.0</td><td>List(Light rain shower)</td></tr><tr><td>2024-11-18T23:11:26.000+0000</td><td>Aguascalientes</td><td>25.0</td><td>List(Partly cloudy)</td></tr><tr><td>2024-11-18T23:11:33.000+0000</td><td>Querétaro</td><td>25.0</td><td>List(Partly cloudy)</td></tr><tr><td>2024-11-18T23:11:33.000+0000</td><td>San Luis Potosí</td><td>20.0</td><td>List(Cloudy )</td></tr><tr><td>2024-11-18T23:11:27.000+0000</td><td>Chiapas</td><td>23.0</td><td>List(Patchy rain nearby)</td></tr><tr><td>2024-11-18T23:11:34.000+0000</td><td>Tamaulipas</td><td>27.0</td><td>List(Partly Cloudy )</td></tr><tr><td>2024-11-18T23:11:36.000+0000</td><td>Zacatecas</td><td>23.0</td><td>List(Partly cloudy)</td></tr><tr><td>2024-11-18T23:11:27.000+0000</td><td>Campeche</td><td>29.0</td><td>List(Partly cloudy)</td></tr><tr><td>2024-11-18T23:11:28.000+0000</td><td>Coahuila</td><td>27.0</td><td>List(Partly cloudy)</td></tr><tr><td>2024-11-18T23:11:31.000+0000</td><td>Morelos</td><td>20.0</td><td>List(Partly Cloudy )</td></tr><tr><td>2024-11-18T23:11:32.000+0000</td><td>Nuevo León</td><td>17.0</td><td>List(Sunny)</td></tr><tr><td>2024-11-18T23:11:32.000+0000</td><td>Puebla</td><td>19.0</td><td>List(Partly Cloudy )</td></tr><tr><td>2024-11-18T23:11:29.000+0000</td><td>Colima</td><td>26.0</td><td>List(Partly cloudy)</td></tr><tr><td>2024-11-18T23:11:32.000+0000</td><td>Oaxaca</td><td>25.0</td><td>List(Partly cloudy)</td></tr><tr><td>2024-11-18T23:11:35.000+0000</td><td>Veracruz</td><td>27.0</td><td>List(Overcast )</td></tr><tr><td>2024-11-18T23:11:35.000+0000</td><td>Yucatán</td><td>21.0</td><td>List(Sunny)</td></tr><tr><td>2024-11-18T23:11:29.000+0000</td><td>Guanajuato</td><td>20.0</td><td>List(Sunny)</td></tr><tr><td>2024-11-18T23:11:34.000+0000</td><td>Sonora</td><td>26.0</td><td>List(Overcast )</td></tr><tr><td>2024-11-18T23:11:28.000+0000</td><td>Chihuahua</td><td>19.0</td><td>List(Sunny)</td></tr><tr><td>2024-11-18T23:11:30.000+0000</td><td>Guerrero</td><td>27.0</td><td>List(Sunny)</td></tr><tr><td>2024-11-18T23:11:35.000+0000</td><td>Tlaxcala</td><td>18.0</td><td>List(Sunny)</td></tr><tr><td>2024-11-18T23:11:30.000+0000</td><td>Hidalgo</td><td>20.0</td><td>List(Sunny)</td></tr><tr><td>2024-11-18T23:11:30.000+0000</td><td>Jalisco</td><td>24.0</td><td>List(Sunny)</td></tr><tr><td>2024-11-18T23:11:31.000+0000</td><td>Nayarit</td><td>31.0</td><td>List(Sunny)</td></tr><tr><td>2024-11-18T23:11:34.000+0000</td><td>Sinaloa</td><td>26.0</td><td>List(Sunny)</td></tr><tr><td>2024-11-18T23:11:34.000+0000</td><td>Tabasco</td><td>23.0</td><td>List(Sunny)</td></tr><tr><td>2024-11-18T23:11:29.000+0000</td><td>Durango</td><td>9.0</td><td>List(Clear)</td></tr></tbody></table></div>"
      ]
     },
     "metadata": {
      "application/vnd.databricks.v1+output": {
       "addedWidgets": {},
       "aggData": [],
       "aggError": "",
       "aggOverflow": false,
       "aggSchema": [],
       "aggSeriesLimitReached": false,
       "aggType": "",
       "arguments": {},
       "columnCustomDisplayInfos": {},
       "data": [
        [
         "2024-11-18T23:11:28.000+0000",
         "Ciudad de México",
         25.0,
         [
          "Partly cloudy"
         ]
        ],
        [
         "2024-11-18T23:11:26.000+0000",
         "Baja California",
         23.0,
         [
          "Patchy rain nearby"
         ]
        ],
        [
         "2024-11-18T23:11:27.000+0000",
         "Baja California Sur",
         23.0,
         [
          "Partly cloudy"
         ]
        ],
        [
         "2024-11-18T23:11:31.000+0000",
         "Michoacán",
         22.0,
         [
          "Light rain shower"
         ]
        ],
        [
         "2024-11-18T23:11:30.000+0000",
         "Estado de México",
         28.0,
         [
          "Overcast "
         ]
        ],
        [
         "2024-11-18T23:11:33.000+0000",
         "Quintana Roo",
         24.0,
         [
          "Light rain shower"
         ]
        ],
        [
         "2024-11-18T23:11:26.000+0000",
         "Aguascalientes",
         25.0,
         [
          "Partly cloudy"
         ]
        ],
        [
         "2024-11-18T23:11:33.000+0000",
         "Querétaro",
         25.0,
         [
          "Partly cloudy"
         ]
        ],
        [
         "2024-11-18T23:11:33.000+0000",
         "San Luis Potosí",
         20.0,
         [
          "Cloudy "
         ]
        ],
        [
         "2024-11-18T23:11:27.000+0000",
         "Chiapas",
         23.0,
         [
          "Patchy rain nearby"
         ]
        ],
        [
         "2024-11-18T23:11:34.000+0000",
         "Tamaulipas",
         27.0,
         [
          "Partly Cloudy "
         ]
        ],
        [
         "2024-11-18T23:11:36.000+0000",
         "Zacatecas",
         23.0,
         [
          "Partly cloudy"
         ]
        ],
        [
         "2024-11-18T23:11:27.000+0000",
         "Campeche",
         29.0,
         [
          "Partly cloudy"
         ]
        ],
        [
         "2024-11-18T23:11:28.000+0000",
         "Coahuila",
         27.0,
         [
          "Partly cloudy"
         ]
        ],
        [
         "2024-11-18T23:11:31.000+0000",
         "Morelos",
         20.0,
         [
          "Partly Cloudy "
         ]
        ],
        [
         "2024-11-18T23:11:32.000+0000",
         "Nuevo León",
         17.0,
         [
          "Sunny"
         ]
        ],
        [
         "2024-11-18T23:11:32.000+0000",
         "Puebla",
         19.0,
         [
          "Partly Cloudy "
         ]
        ],
        [
         "2024-11-18T23:11:29.000+0000",
         "Colima",
         26.0,
         [
          "Partly cloudy"
         ]
        ],
        [
         "2024-11-18T23:11:32.000+0000",
         "Oaxaca",
         25.0,
         [
          "Partly cloudy"
         ]
        ],
        [
         "2024-11-18T23:11:35.000+0000",
         "Veracruz",
         27.0,
         [
          "Overcast "
         ]
        ],
        [
         "2024-11-18T23:11:35.000+0000",
         "Yucatán",
         21.0,
         [
          "Sunny"
         ]
        ],
        [
         "2024-11-18T23:11:29.000+0000",
         "Guanajuato",
         20.0,
         [
          "Sunny"
         ]
        ],
        [
         "2024-11-18T23:11:34.000+0000",
         "Sonora",
         26.0,
         [
          "Overcast "
         ]
        ],
        [
         "2024-11-18T23:11:28.000+0000",
         "Chihuahua",
         19.0,
         [
          "Sunny"
         ]
        ],
        [
         "2024-11-18T23:11:30.000+0000",
         "Guerrero",
         27.0,
         [
          "Sunny"
         ]
        ],
        [
         "2024-11-18T23:11:35.000+0000",
         "Tlaxcala",
         18.0,
         [
          "Sunny"
         ]
        ],
        [
         "2024-11-18T23:11:30.000+0000",
         "Hidalgo",
         20.0,
         [
          "Sunny"
         ]
        ],
        [
         "2024-11-18T23:11:30.000+0000",
         "Jalisco",
         24.0,
         [
          "Sunny"
         ]
        ],
        [
         "2024-11-18T23:11:31.000+0000",
         "Nayarit",
         31.0,
         [
          "Sunny"
         ]
        ],
        [
         "2024-11-18T23:11:34.000+0000",
         "Sinaloa",
         26.0,
         [
          "Sunny"
         ]
        ],
        [
         "2024-11-18T23:11:34.000+0000",
         "Tabasco",
         23.0,
         [
          "Sunny"
         ]
        ],
        [
         "2024-11-18T23:11:29.000+0000",
         "Durango",
         9.0,
         [
          "Clear"
         ]
        ]
       ],
       "datasetInfos": [],
       "dbfsResultPath": null,
       "isJsonSchema": true,
       "metadata": {},
       "overflow": false,
       "plotOptions": {
        "customPlotOptions": {},
        "displayType": "table",
        "pivotAggregation": null,
        "pivotColumns": null,
        "xColumns": null,
        "yColumns": null
       },
       "removedWidgets": [],
       "schema": [
        {
         "metadata": "{}",
         "name": "timestamp",
         "type": "\"timestamp\""
        },
        {
         "metadata": "{}",
         "name": "state",
         "type": "\"string\""
        },
        {
         "metadata": "{}",
         "name": "temperature",
         "type": "\"double\""
        },
        {
         "metadata": "{}",
         "name": "weather_descriptions",
         "type": "{\"type\":\"array\",\"elementType\":\"string\",\"containsNull\":true}"
        }
       ],
       "type": "table"
      }
     },
     "output_type": "display_data"
    }
   ],
   "source": [
    "from pyspark.sql.types import *\n",
    "input_path=\"/dbfs/FileStore/tables/weather_data/\"\n",
    "\n",
    "jsonSchema = StructType([\n",
    "    StructField(\"timestamp\", TimestampType(), True),   \n",
    "    StructField(\"state\", StringType(), True),         \n",
    "    StructField(\"temperature\", DoubleType(), True),  \n",
    "    StructField(\"weather_descriptions\", ArrayType(StringType()), True) \n",
    "])\n",
    "\n",
    "streaming_df = (spark.read\\\n",
    "    .schema(jsonSchema) \\\n",
    "    .json(input_path))\n",
    "\n",
    "display(streaming_df)\n",
    "\n"
   ]
  },
  {
   "cell_type": "code",
   "execution_count": 0,
   "metadata": {
    "application/vnd.databricks.v1+cell": {
     "cellMetadata": {
      "byteLimit": 2048000,
      "rowLimit": 10000
     },
     "inputWidgets": {},
     "nuid": "a80dcda2-fdba-4078-bec1-6f27e708b3d9",
     "showTitle": false,
     "tableResultSettingsMap": {},
     "title": ""
    }
   },
   "outputs": [],
   "source": [
    "from pyspark.sql.functions import *\n",
    "\n",
    "windowed_df = streaming_df.groupBy(\n",
    "    window(col(\"timestamp\"), \"1 hour\"), col(\"state\")\n",
    ").agg(\n",
    "    avg(\"temperature\").alias(\"avg_temperature\") \n",
    ")\n",
    "\n",
    "windowed_df.createOrReplaceTempView(\"windowed_weather_data\")"
   ]
  },
  {
   "cell_type": "code",
   "execution_count": 0,
   "metadata": {
    "application/vnd.databricks.v1+cell": {
     "cellMetadata": {
      "byteLimit": 2048000,
      "implicitDf": true,
      "rowLimit": 10000
     },
     "inputWidgets": {},
     "nuid": "e9f0548e-ea69-4760-abe5-e5556cdec15f",
     "showTitle": false,
     "tableResultSettingsMap": {},
     "title": ""
    }
   },
   "outputs": [
    {
     "output_type": "display_data",
     "data": {
      "text/html": [
       "<style scoped>\n",
       "  .table-result-container {\n",
       "    max-height: 300px;\n",
       "    overflow: auto;\n",
       "  }\n",
       "  table, th, td {\n",
       "    border: 1px solid black;\n",
       "    border-collapse: collapse;\n",
       "  }\n",
       "  th, td {\n",
       "    padding: 5px;\n",
       "  }\n",
       "  th {\n",
       "    text-align: left;\n",
       "  }\n",
       "</style><div class='table-result-container'><table class='table-result'><thead style='background-color: white'><tr><th>window</th><th>state</th><th>avg_temperature</th></tr></thead><tbody><tr><td>List(2024-11-18T23:00:00.000+0000, 2024-11-19T00:00:00.000+0000)</td><td>Baja California</td><td>23.0</td></tr><tr><td>List(2024-11-18T23:00:00.000+0000, 2024-11-19T00:00:00.000+0000)</td><td>Michoacán</td><td>22.0</td></tr><tr><td>List(2024-11-18T23:00:00.000+0000, 2024-11-19T00:00:00.000+0000)</td><td>Baja California Sur</td><td>23.0</td></tr><tr><td>List(2024-11-18T23:00:00.000+0000, 2024-11-19T00:00:00.000+0000)</td><td>Ciudad de México</td><td>25.0</td></tr><tr><td>List(2024-11-18T23:00:00.000+0000, 2024-11-19T00:00:00.000+0000)</td><td>Querétaro</td><td>25.0</td></tr><tr><td>List(2024-11-18T23:00:00.000+0000, 2024-11-19T00:00:00.000+0000)</td><td>Estado de México</td><td>28.0</td></tr><tr><td>List(2024-11-18T23:00:00.000+0000, 2024-11-19T00:00:00.000+0000)</td><td>Aguascalientes</td><td>25.0</td></tr><tr><td>List(2024-11-18T23:00:00.000+0000, 2024-11-19T00:00:00.000+0000)</td><td>Quintana Roo</td><td>24.0</td></tr><tr><td>List(2024-11-18T23:00:00.000+0000, 2024-11-19T00:00:00.000+0000)</td><td>Zacatecas</td><td>23.0</td></tr><tr><td>List(2024-11-18T23:00:00.000+0000, 2024-11-19T00:00:00.000+0000)</td><td>San Luis Potosí</td><td>20.0</td></tr><tr><td>List(2024-11-18T23:00:00.000+0000, 2024-11-19T00:00:00.000+0000)</td><td>Chiapas</td><td>23.0</td></tr><tr><td>List(2024-11-18T23:00:00.000+0000, 2024-11-19T00:00:00.000+0000)</td><td>Tamaulipas</td><td>27.0</td></tr><tr><td>List(2024-11-18T23:00:00.000+0000, 2024-11-19T00:00:00.000+0000)</td><td>Nuevo León</td><td>17.0</td></tr><tr><td>List(2024-11-18T23:00:00.000+0000, 2024-11-19T00:00:00.000+0000)</td><td>Morelos</td><td>20.0</td></tr><tr><td>List(2024-11-18T23:00:00.000+0000, 2024-11-19T00:00:00.000+0000)</td><td>Campeche</td><td>29.0</td></tr><tr><td>List(2024-11-18T23:00:00.000+0000, 2024-11-19T00:00:00.000+0000)</td><td>Coahuila</td><td>27.0</td></tr><tr><td>List(2024-11-18T23:00:00.000+0000, 2024-11-19T00:00:00.000+0000)</td><td>Oaxaca</td><td>25.0</td></tr><tr><td>List(2024-11-18T23:00:00.000+0000, 2024-11-19T00:00:00.000+0000)</td><td>Veracruz</td><td>27.0</td></tr><tr><td>List(2024-11-18T23:00:00.000+0000, 2024-11-19T00:00:00.000+0000)</td><td>Colima</td><td>26.0</td></tr><tr><td>List(2024-11-18T23:00:00.000+0000, 2024-11-19T00:00:00.000+0000)</td><td>Puebla</td><td>19.0</td></tr><tr><td>List(2024-11-18T23:00:00.000+0000, 2024-11-19T00:00:00.000+0000)</td><td>Guanajuato</td><td>20.0</td></tr><tr><td>List(2024-11-18T23:00:00.000+0000, 2024-11-19T00:00:00.000+0000)</td><td>Yucatán</td><td>21.0</td></tr><tr><td>List(2024-11-18T23:00:00.000+0000, 2024-11-19T00:00:00.000+0000)</td><td>Chihuahua</td><td>19.0</td></tr><tr><td>List(2024-11-18T23:00:00.000+0000, 2024-11-19T00:00:00.000+0000)</td><td>Sonora</td><td>26.0</td></tr><tr><td>List(2024-11-18T23:00:00.000+0000, 2024-11-19T00:00:00.000+0000)</td><td>Hidalgo</td><td>20.0</td></tr><tr><td>List(2024-11-18T23:00:00.000+0000, 2024-11-19T00:00:00.000+0000)</td><td>Tlaxcala</td><td>18.0</td></tr><tr><td>List(2024-11-18T23:00:00.000+0000, 2024-11-19T00:00:00.000+0000)</td><td>Jalisco</td><td>24.0</td></tr><tr><td>List(2024-11-18T23:00:00.000+0000, 2024-11-19T00:00:00.000+0000)</td><td>Guerrero</td><td>27.0</td></tr><tr><td>List(2024-11-18T23:00:00.000+0000, 2024-11-19T00:00:00.000+0000)</td><td>Tabasco</td><td>23.0</td></tr><tr><td>List(2024-11-18T23:00:00.000+0000, 2024-11-19T00:00:00.000+0000)</td><td>Sinaloa</td><td>26.0</td></tr><tr><td>List(2024-11-18T23:00:00.000+0000, 2024-11-19T00:00:00.000+0000)</td><td>Nayarit</td><td>31.0</td></tr><tr><td>List(2024-11-18T23:00:00.000+0000, 2024-11-19T00:00:00.000+0000)</td><td>Durango</td><td>9.0</td></tr></tbody></table></div>"
      ]
     },
     "metadata": {
      "application/vnd.databricks.v1+output": {
       "addedWidgets": {},
       "aggData": [],
       "aggError": "",
       "aggOverflow": false,
       "aggSchema": [],
       "aggSeriesLimitReached": false,
       "aggType": "",
       "arguments": {},
       "columnCustomDisplayInfos": {},
       "data": [
        [
         [
          "2024-11-18T23:00:00.000+0000",
          "2024-11-19T00:00:00.000+0000"
         ],
         "Baja California",
         23.0
        ],
        [
         [
          "2024-11-18T23:00:00.000+0000",
          "2024-11-19T00:00:00.000+0000"
         ],
         "Michoacán",
         22.0
        ],
        [
         [
          "2024-11-18T23:00:00.000+0000",
          "2024-11-19T00:00:00.000+0000"
         ],
         "Baja California Sur",
         23.0
        ],
        [
         [
          "2024-11-18T23:00:00.000+0000",
          "2024-11-19T00:00:00.000+0000"
         ],
         "Ciudad de México",
         25.0
        ],
        [
         [
          "2024-11-18T23:00:00.000+0000",
          "2024-11-19T00:00:00.000+0000"
         ],
         "Querétaro",
         25.0
        ],
        [
         [
          "2024-11-18T23:00:00.000+0000",
          "2024-11-19T00:00:00.000+0000"
         ],
         "Estado de México",
         28.0
        ],
        [
         [
          "2024-11-18T23:00:00.000+0000",
          "2024-11-19T00:00:00.000+0000"
         ],
         "Aguascalientes",
         25.0
        ],
        [
         [
          "2024-11-18T23:00:00.000+0000",
          "2024-11-19T00:00:00.000+0000"
         ],
         "Quintana Roo",
         24.0
        ],
        [
         [
          "2024-11-18T23:00:00.000+0000",
          "2024-11-19T00:00:00.000+0000"
         ],
         "Zacatecas",
         23.0
        ],
        [
         [
          "2024-11-18T23:00:00.000+0000",
          "2024-11-19T00:00:00.000+0000"
         ],
         "San Luis Potosí",
         20.0
        ],
        [
         [
          "2024-11-18T23:00:00.000+0000",
          "2024-11-19T00:00:00.000+0000"
         ],
         "Chiapas",
         23.0
        ],
        [
         [
          "2024-11-18T23:00:00.000+0000",
          "2024-11-19T00:00:00.000+0000"
         ],
         "Tamaulipas",
         27.0
        ],
        [
         [
          "2024-11-18T23:00:00.000+0000",
          "2024-11-19T00:00:00.000+0000"
         ],
         "Nuevo León",
         17.0
        ],
        [
         [
          "2024-11-18T23:00:00.000+0000",
          "2024-11-19T00:00:00.000+0000"
         ],
         "Morelos",
         20.0
        ],
        [
         [
          "2024-11-18T23:00:00.000+0000",
          "2024-11-19T00:00:00.000+0000"
         ],
         "Campeche",
         29.0
        ],
        [
         [
          "2024-11-18T23:00:00.000+0000",
          "2024-11-19T00:00:00.000+0000"
         ],
         "Coahuila",
         27.0
        ],
        [
         [
          "2024-11-18T23:00:00.000+0000",
          "2024-11-19T00:00:00.000+0000"
         ],
         "Oaxaca",
         25.0
        ],
        [
         [
          "2024-11-18T23:00:00.000+0000",
          "2024-11-19T00:00:00.000+0000"
         ],
         "Veracruz",
         27.0
        ],
        [
         [
          "2024-11-18T23:00:00.000+0000",
          "2024-11-19T00:00:00.000+0000"
         ],
         "Colima",
         26.0
        ],
        [
         [
          "2024-11-18T23:00:00.000+0000",
          "2024-11-19T00:00:00.000+0000"
         ],
         "Puebla",
         19.0
        ],
        [
         [
          "2024-11-18T23:00:00.000+0000",
          "2024-11-19T00:00:00.000+0000"
         ],
         "Guanajuato",
         20.0
        ],
        [
         [
          "2024-11-18T23:00:00.000+0000",
          "2024-11-19T00:00:00.000+0000"
         ],
         "Yucatán",
         21.0
        ],
        [
         [
          "2024-11-18T23:00:00.000+0000",
          "2024-11-19T00:00:00.000+0000"
         ],
         "Chihuahua",
         19.0
        ],
        [
         [
          "2024-11-18T23:00:00.000+0000",
          "2024-11-19T00:00:00.000+0000"
         ],
         "Sonora",
         26.0
        ],
        [
         [
          "2024-11-18T23:00:00.000+0000",
          "2024-11-19T00:00:00.000+0000"
         ],
         "Hidalgo",
         20.0
        ],
        [
         [
          "2024-11-18T23:00:00.000+0000",
          "2024-11-19T00:00:00.000+0000"
         ],
         "Tlaxcala",
         18.0
        ],
        [
         [
          "2024-11-18T23:00:00.000+0000",
          "2024-11-19T00:00:00.000+0000"
         ],
         "Jalisco",
         24.0
        ],
        [
         [
          "2024-11-18T23:00:00.000+0000",
          "2024-11-19T00:00:00.000+0000"
         ],
         "Guerrero",
         27.0
        ],
        [
         [
          "2024-11-18T23:00:00.000+0000",
          "2024-11-19T00:00:00.000+0000"
         ],
         "Tabasco",
         23.0
        ],
        [
         [
          "2024-11-18T23:00:00.000+0000",
          "2024-11-19T00:00:00.000+0000"
         ],
         "Sinaloa",
         26.0
        ],
        [
         [
          "2024-11-18T23:00:00.000+0000",
          "2024-11-19T00:00:00.000+0000"
         ],
         "Nayarit",
         31.0
        ],
        [
         [
          "2024-11-18T23:00:00.000+0000",
          "2024-11-19T00:00:00.000+0000"
         ],
         "Durango",
         9.0
        ]
       ],
       "datasetInfos": [],
       "dbfsResultPath": null,
       "isJsonSchema": true,
       "metadata": {},
       "overflow": false,
       "plotOptions": {
        "customPlotOptions": {},
        "displayType": "table",
        "pivotAggregation": null,
        "pivotColumns": null,
        "xColumns": null,
        "yColumns": null
       },
       "removedWidgets": [],
       "schema": [
        {
         "metadata": "{\"spark.timeWindow\":true}",
         "name": "window",
         "type": "{\"type\":\"struct\",\"fields\":[{\"name\":\"start\",\"type\":\"timestamp\",\"nullable\":true,\"metadata\":{}},{\"name\":\"end\",\"type\":\"timestamp\",\"nullable\":true,\"metadata\":{}}]}"
        },
        {
         "metadata": "{}",
         "name": "state",
         "type": "\"string\""
        },
        {
         "metadata": "{}",
         "name": "avg_temperature",
         "type": "\"double\""
        }
       ],
       "type": "table"
      }
     },
     "output_type": "display_data"
    }
   ],
   "source": [
    "%sql select * from windowed_weather_data"
   ]
  },
  {
   "cell_type": "code",
   "execution_count": 0,
   "metadata": {
    "application/vnd.databricks.v1+cell": {
     "cellMetadata": {
      "byteLimit": 2048000,
      "rowLimit": 10000
     },
     "inputWidgets": {},
     "nuid": "dac59cab-5bc0-4e41-866e-1569b1a5f408",
     "showTitle": false,
     "tableResultSettingsMap": {},
     "title": ""
    }
   },
   "outputs": [
    {
     "output_type": "display_data",
     "data": {
      "image/png": "[encoded data removed]"
     },
     "metadata": {
      "application/vnd.databricks.v1+output": {
       "addedWidgets": {},
       "arguments": {},
       "data": "data:image/png;base64,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\n",
       "datasetInfos": [],
       "metadata": {},
       "removedWidgets": [],
       "type": "image"
      }
     },
     "output_type": "display_data"
    }
   ],
   "source": [
    "\n",
    "temperature_data = spark.sql(\"\"\"\n",
    "    SELECT \n",
    "        state, \n",
    "        avg_temperature \n",
    "    FROM windowed_weather_data\n",
    "    ORDER BY avg_temperature DESC\n",
    "\"\"\").toPandas()\n",
    "\n",
    "import matplotlib.pyplot as plt\n",
    "\n",
    "# Crear el gráfico\n",
    "plt.bar(temperature_data['state'], temperature_data['avg_temperature'], color='skyblue')\n",
    "plt.xlabel('Estado')\n",
    "plt.ylabel('Temperatura promedio (°C)')\n",
    "plt.title('Temperatura  promedio por Estado (Última Hora)')\n",
    "plt.xticks(rotation=90, ha='right')\n",
    "plt.tight_layout()\n",
    "plt.show()"
   ]
  }
 ],
 "metadata": {
  "application/vnd.databricks.v1+notebook": {
   "dashboards": [],
   "environmentMetadata": null,
   "language": "python",
   "notebookMetadata": {
    "mostRecentlyExecutedCommandWithImplicitDF": {
     "commandId": 924276042673664,
     "dataframes": [
      "_sqldf"
     ]
    },
    "pythonIndentUnit": 2
   },
   "notebookName": "Challenge 3 2024-11-18 13:28:26",
   "widgets": {}
  }
 },
 "nbformat": 4,
 "nbformat_minor": 0
}
